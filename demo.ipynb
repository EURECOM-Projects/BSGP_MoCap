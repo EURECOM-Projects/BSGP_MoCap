{
 "cells": [
  {
   "cell_type": "code",
   "execution_count": 142,
   "metadata": {},
   "outputs": [],
   "source": [
    "import numpy as np\n",
    "import torch\n",
    "from bsgp.kernels import FullPrecisionRBF as BgpFullRBF\n",
    "import tensorflow as  tf\n",
    "T = 95\n",
    "N = 15\n",
    "D = 5\n",
    "M = 10 # num inducing\n",
    "X = np.random.rand(N,T,D)\n",
    "Y = np.random.randint(0, 2, (N,1))"
   ]
  },
  {
   "cell_type": "code",
   "execution_count": 143,
   "metadata": {},
   "outputs": [],
   "source": [
    "X = np.random.rand(N,T,D)\n",
    "Y = np.random.randint(0, 2, (N,1))"
   ]
  },
  {
   "cell_type": "code",
   "execution_count": 107,
   "metadata": {},
   "outputs": [],
   "source": [
    "inputs = torch.tensor(X, dtype=torch.float64)\n",
    "targets = torch.tensor(Y, dtype=torch.float64)\n",
    "torch.save([inputs, targets], 'data/' + 'mocap_demo' + '.pth')"
   ]
  },
  {
   "cell_type": "code",
   "execution_count": 144,
   "metadata": {},
   "outputs": [],
   "source": [
    "kernel = BgpFullRBF(variance=0.1, randomized=False, d=5, T=95, prior_precision_info=None)"
   ]
  },
  {
   "cell_type": "code",
   "execution_count": 145,
   "metadata": {},
   "outputs": [],
   "source": [
    "X = X.reshape(N, T*D)"
   ]
  },
  {
   "cell_type": "code",
   "execution_count": null,
   "metadata": {},
   "outputs": [],
   "source": []
  }
 ],
 "metadata": {
  "kernelspec": {
   "display_name": "sproj",
   "language": "python",
   "name": "python3"
  },
  "language_info": {
   "codemirror_mode": {
    "name": "ipython",
    "version": 3
   },
   "file_extension": ".py",
   "mimetype": "text/x-python",
   "name": "python",
   "nbconvert_exporter": "python",
   "pygments_lexer": "ipython3",
   "version": "3.8.16"
  },
  "orig_nbformat": 4
 },
 "nbformat": 4,
 "nbformat_minor": 2
}
